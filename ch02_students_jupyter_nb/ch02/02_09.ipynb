{
 "cells": [
  {
   "cell_type": "markdown",
   "metadata": {
    "slideshow": {
     "slide_type": "slide"
    }
   },
   "source": [
    "# 2.9 Intro to Data Science: Basic Descriptive Statistics\n",
    "* In data science, you’ll often use statistics to describe and summarize your data. \n",
    "* Here, we introduce several **descriptive statistics**:\n",
    "    * **minimum**—the smallest value in a collection of values.\n",
    "    * **maximum**—the largest value in a collection of values.\n",
    "    * **range**—the range of values from the minimum to the maximum.\n",
    "    * **count**—the number of values in a collection.\n",
    "    * **sum**—the total of the values in a collection."
   ]
  },
  {
   "cell_type": "markdown",
   "metadata": {
    "slideshow": {
     "slide_type": "slide"
    }
   },
   "source": [
    "### Determining the Minimum of Three Values \n",
    "* Determine the minimum of three values manually in a script that prompts for and inputs three values, uses `if` statements to determine the minimum value, then displays it."
   ]
  },
  {
   "cell_type": "code",
   "execution_count": null,
   "metadata": {},
   "outputs": [],
   "source": [
    "# Complete the code below.  The goal of your program will be to ask the user for 3 numbers (done for you)\n",
    "# and then to print out the minimum of the 3 values using only if statements.\n",
    "\n",
    "#Test your program by:\n",
    "#Enter `12`, `27` and `36` and test.\n",
    "#Enter `36`, `12` and `27` and test.\n",
    "#Enter `27`, `36` and `12` and test.\n",
    "\n",
    "number1 = int(input('Enter first integer: '))\n",
    "number2 = int(input('Enter second integer: '))\n",
    "number3 = int(input('Enter third integer: '))\n",
    "\n",
    "#HINT:  Assume the first number is the min and update this variable as necessary.\n",
    "minimum = number1  "
   ]
  },
  {
   "cell_type": "markdown",
   "metadata": {
    "slideshow": {
     "slide_type": "slide"
    }
   },
   "source": [
    "* Logic of determining minimum:\n",
    "    * First, assume that `number1` contains the smallest value. \n",
    "    * The first `if` statement then tests `number2 < minimum` and if this condition is `True` assigns `number2` to `minimum`. \n",
    "    * The second `if` statement then tests `number3 < minimum`, and if this condition is `True` assigns `number3` to `minimum`. \n",
    "* Now, `minimum` contains the smallest value, so we display it. "
   ]
  },
  {
   "cell_type": "markdown",
   "metadata": {
    "slideshow": {
     "slide_type": "slide"
    }
   },
   "source": [
    "### Determining the Minimum and Maximum with Built-In Functions `min` and `max`\n",
    "* Python has many built-in functions for performing common tasks. \n",
    "* **`min`** and **`max`** calculate the minimum and maximum, respectively, of a collection of values."
   ]
  },
  {
   "cell_type": "code",
   "execution_count": null,
   "metadata": {},
   "outputs": [],
   "source": [
    "min(36, 27, 12)"
   ]
  },
  {
   "cell_type": "code",
   "execution_count": null,
   "metadata": {},
   "outputs": [],
   "source": [
    "max(36, 27, 12)"
   ]
  },
  {
   "cell_type": "markdown",
   "metadata": {
    "slideshow": {
     "slide_type": "slide"
    }
   },
   "source": [
    "### Determining the Range of a Collection of Values \n",
    "* The _range_ of values is simply the minimum through the maximum value. \n",
    "* Much data science is devoted to getting to know your data. \n",
    "* Have to understand how to interpret statistics. \n",
    "    * If you have 100 numbers with a range of 12 through 36, those numbers could be distributed evenly over that range. \n",
    "    * At the opposite extreme, you could have clumping with 99 values of 12 and one 36, or one 12 and 99 values of 36. "
   ]
  },
  {
   "cell_type": "markdown",
   "metadata": {
    "slideshow": {
     "slide_type": "slide"
    }
   },
   "source": [
    "### Functional-Style Programming: Reduction \n",
    "* We introduce various _functional-style programming_ capabilities. \n",
    "* These enable you to write code that can be more concise, clearer and easier to **debug**. \n",
    "* Functions `min` and `max` are examples of a functional-style programming concept called **reduction**&mdash;each reduces a collection of values to a _single_ value. \n",
    "* Other reductions you'll see: sum, average, variance and standard deviation. "
   ]
  },
  {
   "cell_type": "markdown",
   "metadata": {},
   "source": [
    "------\n",
    "&copy;1992&ndash;2020 by Pearson Education, Inc. All Rights Reserved. This content is based on Chapter 2 of the book [**Intro to Python for Computer Science and Data Science: Learning to Program with AI, Big Data and the Cloud**](https://amzn.to/2VvdnxE).\n",
    "\n",
    "DISCLAIMER: The authors and publisher of this book have used their \n",
    "best efforts in preparing the book. These efforts include the \n",
    "development, research, and testing of the theories and programs \n",
    "to determine their effectiveness. The authors and publisher make \n",
    "no warranty of any kind, expressed or implied, with regard to these \n",
    "programs or to the documentation contained in these books. The authors \n",
    "and publisher shall not be liable in any event for incidental or \n",
    "consequential damages in connection with, or arising out of, the \n",
    "furnishing, performance, or use of these programs.                  "
   ]
  }
 ],
 "metadata": {
  "celltoolbar": "Slideshow",
  "kernelspec": {
   "display_name": "Python 3",
   "language": "python",
   "name": "python3"
  },
  "language_info": {
   "codemirror_mode": {
    "name": "ipython",
    "version": 3
   },
   "file_extension": ".py",
   "mimetype": "text/x-python",
   "name": "python",
   "nbconvert_exporter": "python",
   "pygments_lexer": "ipython3",
   "version": "3.7.3"
  }
 },
 "nbformat": 4,
 "nbformat_minor": 4
}
