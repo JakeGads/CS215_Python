{
 "cells": [
  {
   "cell_type": "markdown",
   "metadata": {
    "slideshow": {
     "slide_type": "slide"
    }
   },
   "source": [
    "# 2.4 Function `print` and an Intro to Single-and-Double-Quoted Strings\n",
    "* The built-in **`print` function** displays its argument(s) as a line of text "
   ]
  },
  {
   "cell_type": "code",
   "execution_count": 1,
   "metadata": {},
   "outputs": [
    {
     "name": "stdout",
     "output_type": "stream",
     "text": [
      "Welcome to Python!\n"
     ]
    }
   ],
   "source": [
    "print('Welcome to Python!')"
   ]
  },
  {
   "cell_type": "markdown",
   "metadata": {
    "slideshow": {
     "slide_type": "slide"
    }
   },
   "source": [
    "* May enclose a string in double quotes (`\"`)."
   ]
  },
  {
   "cell_type": "code",
   "execution_count": 2,
   "metadata": {},
   "outputs": [
    {
     "name": "stdout",
     "output_type": "stream",
     "text": [
      "Welcome to Python!\n"
     ]
    }
   ],
   "source": [
    "print(\"Welcome to Python!\")"
   ]
  },
  {
   "cell_type": "markdown",
   "metadata": {},
   "source": [
    "* Python programmers generally prefer single quotes. \n",
    "* When `print` completes its task, it positions the screen cursor at the beginning of the next line. "
   ]
  },
  {
   "cell_type": "markdown",
   "metadata": {
    "slideshow": {
     "slide_type": "slide"
    }
   },
   "source": [
    "### Printing a Comma-Separated List of Items"
   ]
  },
  {
   "cell_type": "code",
   "execution_count": 3,
   "metadata": {},
   "outputs": [
    {
     "name": "stdout",
     "output_type": "stream",
     "text": [
      "Welcome to Python!\n"
     ]
    }
   ],
   "source": [
    "print('Welcome', 'to', 'Python!')"
   ]
  },
  {
   "cell_type": "markdown",
   "metadata": {},
   "source": [
    "* Displays each argument separated from the next by a space."
   ]
  },
  {
   "cell_type": "markdown",
   "metadata": {
    "slideshow": {
     "slide_type": "slide"
    }
   },
   "source": [
    "### Printing Many Lines of Text with One Statement\n",
    "* A backslash (`\\`) in a string is the **escape character**. \n",
    "* The backslash and the character immediately following it form an **escape sequence**. \n",
    "* `\\n` represents the **newline character** escape sequence, which tells `print` to move the output cursor to the next line. "
   ]
  },
  {
   "cell_type": "code",
   "execution_count": 4,
   "metadata": {},
   "outputs": [
    {
     "name": "stdout",
     "output_type": "stream",
     "text": [
      "Welcome\n",
      "to\n",
      "\n",
      "Python!\n"
     ]
    }
   ],
   "source": [
    "print('Welcome\\nto\\n\\nPython!')"
   ]
  },
  {
   "cell_type": "markdown",
   "metadata": {
    "slideshow": {
     "slide_type": "slide"
    }
   },
   "source": [
    "### Other Escape Sequences\n",
    "| Escape sequence | Description\n",
    "| :------- | :------------\n",
    "| `\\n` | Insert a newline character in a string. When the string is displayed, for each newline, move the screen cursor to the beginning of the next line. \n",
    "| `\\t` | Insert a horizontal tab. When the string is displayed, for each tab, move the screen cursor to the next tab stop. \n",
    "| `\\\\` | Insert a backslash character in a string.\n",
    "| `\\\"` | Insert a double quote character in a string.\n",
    "| `\\'` | Insert a single quote character in a string."
   ]
  },
  {
   "cell_type": "code",
   "execution_count": 6,
   "metadata": {},
   "outputs": [
    {
     "name": "stdout",
     "output_type": "stream",
     "text": [
      "\n",
      "The Student\n",
      "    loves to program so much that\n",
      "    \n",
      "    she saved her homework\n",
      "    \n",
      "into the folder named 'C:\\\\I_LOVE_PYTHON'\n",
      "\n",
      "The Student\n",
      "\tloves to program so much that\n",
      "\n",
      "\tshe saved her homework\n",
      "\n",
      "into the folder 'C:\\\\I_LOVE_PYTHON\n"
     ]
    }
   ],
   "source": [
    "#YOU TRY....Use escape sequences to print the following out:\n",
    "\n",
    "#The student\n",
    "#    loves to program so much that\n",
    "#    \n",
    "#    she saved her homework\n",
    "#\n",
    "#into the folder named 'C:\\\\I_Love_PYTHON'!\n",
    "\n",
    "print(\n",
    "'''\n",
    "The Student\n",
    "    loves to program so much that\n",
    "    \n",
    "    she saved her homework\n",
    "    \n",
    "into the folder named \\'C:\\\\\\\\I_LOVE_PYTHON'\n",
    "'''\n",
    ") #Using windows like a pleb\n",
    "\n",
    "print('The Student\\n\\tloves to program so much that\\n\\n\\tshe saved her homework\\n\\ninto the folder \\'C:\\\\\\\\I_LOVE_PYTHON')"
   ]
  },
  {
   "cell_type": "markdown",
   "metadata": {
    "slideshow": {
     "slide_type": "slide"
    }
   },
   "source": [
    "### Ignoring a Line Break in a Long String\n",
    "* Can split a long string (or a long statement) over several lines by using the **\\ continuation character** as the last character on a line to ignore the line break."
   ]
  },
  {
   "cell_type": "code",
   "execution_count": null,
   "metadata": {},
   "outputs": [],
   "source": [
    "print('this is a longer string, so we \\\n",
    "split it over two lines')"
   ]
  },
  {
   "cell_type": "markdown",
   "metadata": {},
   "source": [
    "* In this case, `\\` is not the escape character because another character does not follow it."
   ]
  },
  {
   "cell_type": "code",
   "execution_count": 9,
   "metadata": {},
   "outputs": [
    {
     "name": "stdout",
     "output_type": "stream",
     "text": [
      "\n",
      "#This is the song that never ends.\n",
      "#It just goes round and round my friends.\n",
      "#some people started singing it not knowing what it was\n",
      "#and we continue singing it forever just because\n",
      "#This is the song that never ends...\n",
      "\n",
      "This is the song that never ends It just goes round and round my firends some people started singing it forever just becuase This is the song that never ends...\n"
     ]
    }
   ],
   "source": [
    "#YOU TRY.... Split the long string below across multiple lines using the continuation character.  \n",
    "#How many lines are used to print it to the console?\n",
    "print('''\n",
    "#This is the song that never ends.\n",
    "#It just goes round and round my friends.\n",
    "#some people started singing it not knowing what it was\n",
    "#and we continue singing it forever just because\n",
    "#This is the song that never ends...\n",
    "''')\n",
    "\n",
    "print(\"This is the song that never ends\\\n",
    " It just goes round and round my firends\\\n",
    " some people started singing it forever just becuase\\\n",
    " This is the song that never ends...\")"
   ]
  },
  {
   "cell_type": "markdown",
   "metadata": {
    "slideshow": {
     "slide_type": "slide"
    }
   },
   "source": [
    "### Printing the Value of an Expression"
   ]
  },
  {
   "cell_type": "code",
   "execution_count": 11,
   "metadata": {},
   "outputs": [
    {
     "name": "stdout",
     "output_type": "stream",
     "text": [
      "Sum is 10\n",
      "Sum is 10\n"
     ]
    }
   ],
   "source": [
    "print('Sum is', 7 + 3)\n",
    "print('Sum is {sum}'.format(sum= 7+3))"
   ]
  },
  {
   "cell_type": "markdown",
   "metadata": {},
   "source": [
    "------\n",
    "&copy;1992&ndash;2020 by Pearson Education, Inc. All Rights Reserved. This content is based on Chapter 2 of the book [**Intro to Python for Computer Science and Data Science: Learning to Program with AI, Big Data and the Cloud**](https://amzn.to/2VvdnxE).\n",
    "\n",
    "DISCLAIMER: The authors and publisher of this book have used their \n",
    "best efforts in preparing the book. These efforts include the \n",
    "development, research, and testing of the theories and programs \n",
    "to determine their effectiveness. The authors and publisher make \n",
    "no warranty of any kind, expressed or implied, with regard to these \n",
    "programs or to the documentation contained in these books. The authors \n",
    "and publisher shall not be liable in any event for incidental or \n",
    "consequential damages in connection with, or arising out of, the \n",
    "furnishing, performance, or use of these programs.                  "
   ]
  }
 ],
 "metadata": {
  "celltoolbar": "Slideshow",
  "kernelspec": {
   "display_name": "Python 3",
   "language": "python",
   "name": "python3"
  },
  "language_info": {
   "codemirror_mode": {
    "name": "ipython",
    "version": 3
   },
   "file_extension": ".py",
   "mimetype": "text/x-python",
   "name": "python",
   "nbconvert_exporter": "python",
   "pygments_lexer": "ipython3",
   "version": "3.7.3"
  }
 },
 "nbformat": 4,
 "nbformat_minor": 4
}
